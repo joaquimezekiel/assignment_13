{
 "cells": [
  {
   "cell_type": "code",
   "execution_count": 34,
   "id": "2af27bce",
   "metadata": {},
   "outputs": [],
   "source": [
    "#import the necessary Python libraries \n",
    "import requests\n",
    "from bs4 import BeautifulSoup\n",
    "import csv"
   ]
  },
  {
   "cell_type": "code",
   "execution_count": 35,
   "id": "7b639700",
   "metadata": {},
   "outputs": [],
   "source": [
    "# use requests to make a GET HTTP requests for the url: https://authoraditiagarwal.com/ by making a GET request.\n",
    "response = requests.get('https://authoraditiagarwal.com/')\n"
   ]
  },
  {
   "cell_type": "code",
   "execution_count": 36,
   "id": "ae96a587",
   "metadata": {},
   "outputs": [],
   "source": [
    "#to create a Soup object \n",
    "soup = BeautifulSoup(response.text, 'lxml')\n",
    "\n",
    "# writtıng the Scrapped data into a CSV file named dataprocessing.csv.\n",
    "\n",
    "\n"
   ]
  },
  {
   "cell_type": "code",
   "execution_count": 37,
   "id": "ff36b857",
   "metadata": {},
   "outputs": [
    {
     "data": {
      "text/plain": [
       "1497"
      ]
     },
     "execution_count": 37,
     "metadata": {},
     "output_type": "execute_result"
    }
   ],
   "source": [
    "file = open(\"copy.txt\", \"w\") \n",
    "f.writerow(['Title'])\n",
    "f.writerow([soup.title.text])\n",
    "data = soup.get_text()\n",
    "data\n",
    "file.write(soup.get_text()) "
   ]
  },
  {
   "cell_type": "code",
   "execution_count": 33,
   "id": "221c381c",
   "metadata": {},
   "outputs": [
    {
     "data": {
      "text/plain": [
       "25"
      ]
     },
     "execution_count": 33,
     "metadata": {},
     "output_type": "execute_result"
    }
   ],
   "source": [
    " # writtıng the Scrapped data into a CSV file named dataprocessing.csv.\n",
    "f = csv.writer(open(' dataScapping1.csv ','w'))\n",
    "f.writerow(['Title'])\n",
    "f.writerow([soup.title.text])"
   ]
  },
  {
   "cell_type": "code",
   "execution_count": null,
   "id": "14d24b5d",
   "metadata": {},
   "outputs": [],
   "source": []
  }
 ],
 "metadata": {
  "kernelspec": {
   "display_name": "Python 3 (ipykernel)",
   "language": "python",
   "name": "python3"
  },
  "language_info": {
   "codemirror_mode": {
    "name": "ipython",
    "version": 3
   },
   "file_extension": ".py",
   "mimetype": "text/x-python",
   "name": "python",
   "nbconvert_exporter": "python",
   "pygments_lexer": "ipython3",
   "version": "3.9.7"
  }
 },
 "nbformat": 4,
 "nbformat_minor": 5
}
